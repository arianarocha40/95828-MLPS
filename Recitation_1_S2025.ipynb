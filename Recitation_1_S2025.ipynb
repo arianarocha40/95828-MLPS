{
  "cells": [
    {
      "cell_type": "markdown",
      "metadata": {
        "id": "view-in-github",
        "colab_type": "text"
      },
      "source": [
        "<a href=\"https://colab.research.google.com/github/arianarocha40/95828-MLPS/blob/main/Recitation_1_S2025.ipynb\" target=\"_parent\"><img src=\"https://colab.research.google.com/assets/colab-badge.svg\" alt=\"Open In Colab\"/></a>"
      ]
    },
    {
      "cell_type": "markdown",
      "metadata": {
        "id": "a5dhKptDoo6L"
      },
      "source": [
        "# MLPS Recitation 1 (Spring 2025)\n",
        "TA: Zijun Ding\n",
        "\n",
        "Topics covered today:\n",
        "- Python OOP basics\n",
        "- Linear Algebra: Numpy\n",
        "- Data Processing: Pandas\n",
        "- Data Visualization: Matplotlib\n",
        "- Machine Learning Packages: Sklearn and Pytorch\n",
        "\n"
      ]
    },
    {
      "cell_type": "markdown",
      "metadata": {
        "id": "y1BVExigoo6X"
      },
      "source": [
        "## Installation\n",
        "\n",
        "There are several ways in which we could install python environment. Using Anaconda is the recommended way, because it comes with all the necesaary libraries bundled. Our recommendation is to use Python 3.x.x >= 3.10\n",
        "\n",
        "Refer to this [page](https://www.anaconda.com/products/distribution) for details."
      ]
    },
    {
      "cell_type": "code",
      "execution_count": null,
      "metadata": {
        "ExecuteTime": {
          "end_time": "2023-01-19T23:13:23.242513Z",
          "start_time": "2023-01-19T23:13:23.233933Z"
        },
        "colab": {
          "base_uri": "https://localhost:8080/"
        },
        "id": "UUECjW8Loo6Y",
        "outputId": "d56472bc-bac9-4c98-b35b-6c1f4e16e93d"
      },
      "outputs": [
        {
          "output_type": "stream",
          "name": "stdout",
          "text": [
            "3.11.11\n"
          ]
        }
      ],
      "source": [
        "from platform import python_version\n",
        "\n",
        "print(python_version())"
      ]
    },
    {
      "cell_type": "markdown",
      "metadata": {
        "id": "S9lu7whxoo6Z"
      },
      "source": [
        "You can now write `.py` files and run those files using python command. However, for the purposes of this class we'll use Jupyter notebooks. Jupyter Notebook is a browser-based coding environment, used extensively for prototyping and interactive development in data science applications. It is also easily available at Google Colab."
      ]
    },
    {
      "cell_type": "markdown",
      "metadata": {
        "id": "QJDl0y6goo6Z"
      },
      "source": [
        "## Python OOP basics\n"
      ]
    },
    {
      "cell_type": "markdown",
      "metadata": {
        "id": "bHC_ipUfoo6a"
      },
      "source": [
        "Object-Oriented Programming (OOP) is a programming paradigm based on the concept of \"objects,\" which can contain data (attributes) and code (methods). It helps in designing and organizing code by bundling related properties and behaviors into objects.\n"
      ]
    },
    {
      "cell_type": "markdown",
      "metadata": {
        "id": "yiCFyaomoo6a"
      },
      "source": [
        "### 1. Classes and Objects\n",
        "- **Class**: A blueprint for creating objects.\n",
        "- **Object**: An instance of a class."
      ]
    },
    {
      "cell_type": "code",
      "execution_count": null,
      "metadata": {
        "id": "OtDxwlEmoo6a"
      },
      "outputs": [],
      "source": [
        "# Define a class for a simple machine learning dataset\n",
        "class Dataset:\n",
        "    def __init__(self, dat):\n",
        "        self.data = dat  # Attribute\n",
        "\n",
        "    def get_summary(self):  # Method\n",
        "        return {\n",
        "            \"mean\": sum(self.data) / len(self.data),\n",
        "            \"min\": min(self.data),\n",
        "            \"max\": max(self.data)\n",
        "        }"
      ]
    },
    {
      "cell_type": "code",
      "execution_count": null,
      "metadata": {
        "id": "mFyv9OvKoo6a"
      },
      "outputs": [],
      "source": [
        "# Create an object (instance)\n",
        "dataset = Dataset([1, 2, 3, 4, 5])"
      ]
    },
    {
      "cell_type": "code",
      "execution_count": null,
      "metadata": {
        "colab": {
          "base_uri": "https://localhost:8080/"
        },
        "id": "IGPky6YHoo6b",
        "outputId": "e3bf1367-e73d-4b6f-d4b4-6fbf6f9b01bb"
      },
      "outputs": [
        {
          "output_type": "stream",
          "name": "stdout",
          "text": [
            "[1, 2, 3, 4, 5]\n",
            "{'mean': 3.0, 'min': 1, 'max': 5}\n"
          ]
        }
      ],
      "source": [
        "# Access attributes and methods\n",
        "print(dataset.data)  # Output: [1, 2, 3, 4, 5]\n",
        "print(dataset.get_summary())  # Output: {'mean': 3.0, 'min': 1, 'max': 5}\n"
      ]
    },
    {
      "cell_type": "markdown",
      "metadata": {
        "id": "q34emtjpoo6b"
      },
      "source": [
        "### 2. Inheritance\n",
        "Inheritance allows a class to inherit the attributes and methods of another class.\n"
      ]
    },
    {
      "cell_type": "code",
      "execution_count": null,
      "metadata": {
        "id": "1VdpQlwzoo6b"
      },
      "outputs": [],
      "source": [
        "# Define a base class for a general model\n",
        "class Model:\n",
        "    def __init__(self, name):\n",
        "        self.name = name\n",
        "\n",
        "    def train(self, data):\n",
        "        print(f\"Training {self.name} with data: {data}\")\n",
        "\n",
        "# Define a derived class for a specific type of model\n",
        "class LinearModel(Model):\n",
        "    def __init__(self):\n",
        "        super().__init__(name=\"Linear Model\")\n",
        "\n",
        "    def predict(self, x):\n",
        "        print(f\"Predicting with {self.name} for input: {x}\")\n"
      ]
    },
    {
      "cell_type": "code",
      "execution_count": null,
      "metadata": {
        "colab": {
          "base_uri": "https://localhost:8080/"
        },
        "id": "lW3turSHoo6c",
        "outputId": "8b336646-1ca8-4561-b548-bf6aa9be7f7c"
      },
      "outputs": [
        {
          "output_type": "stream",
          "name": "stdout",
          "text": [
            "Training Linear Model with data: [1, 2, 3, 4, 5]\n",
            "Predicting with Linear Model for input: [6, 7]\n"
          ]
        }
      ],
      "source": [
        "# Create an object of the derived class\n",
        "model = LinearModel()\n",
        "data = [1, 2, 3, 4, 5]\n",
        "model.train(data)\n",
        "model.predict([6, 7])"
      ]
    },
    {
      "cell_type": "markdown",
      "metadata": {
        "id": "YDAn4nB8oo6c"
      },
      "source": [
        "### 3. Encapsulation\n",
        "Encapsulation restricts direct access to an object's data. Attributes can be made private with two underscores.\n"
      ]
    },
    {
      "cell_type": "code",
      "execution_count": null,
      "metadata": {
        "id": "S1patCJpoo6c"
      },
      "outputs": [],
      "source": [
        "class Preprocessor:\n",
        "    def __init__(self, data):\n",
        "        self.__data = data  # Private attribute\n",
        "        self.public_data = data\n",
        "\n",
        "    def scale_data(self):\n",
        "        print(\"Scaling data...\")\n",
        "        self.max = max(self.__data)  # Public attribute\n",
        "        self.__data = [x / max(self.__data) for x in self.__data]\n",
        "\n",
        "    def get_data(self):\n",
        "        return self.__data\n",
        "\n",
        "# Test encapsulation\n",
        "preprocessor = Preprocessor([1, 2, 3, 4, 5])\n",
        "preprocessor.scale_data()\n",
        "print(preprocessor.get_data())\n",
        "print(preprocessor.max)\n"
      ]
    },
    {
      "cell_type": "code",
      "execution_count": null,
      "metadata": {
        "colab": {
          "base_uri": "https://localhost:8080/",
          "height": 175
        },
        "id": "rPfdEOO0oo6d",
        "outputId": "fd85c196-22bc-45fa-d74e-fd1a1fa12066"
      },
      "outputs": [
        {
          "output_type": "error",
          "ename": "AttributeError",
          "evalue": "'Preprocessor' object has no attribute '__data'",
          "traceback": [
            "\u001b[0;31m---------------------------------------------------------------------------\u001b[0m",
            "\u001b[0;31mAttributeError\u001b[0m                            Traceback (most recent call last)",
            "\u001b[0;32m<ipython-input-15-073e5fbaa768>\u001b[0m in \u001b[0;36m<cell line: 0>\u001b[0;34m()\u001b[0m\n\u001b[1;32m      1\u001b[0m \u001b[0;31m# You will get error if you run\u001b[0m\u001b[0;34m\u001b[0m\u001b[0;34m\u001b[0m\u001b[0m\n\u001b[0;32m----> 2\u001b[0;31m \u001b[0mpreprocessor\u001b[0m\u001b[0;34m.\u001b[0m\u001b[0m__data\u001b[0m\u001b[0;34m\u001b[0m\u001b[0;34m\u001b[0m\u001b[0m\n\u001b[0m",
            "\u001b[0;31mAttributeError\u001b[0m: 'Preprocessor' object has no attribute '__data'"
          ]
        }
      ],
      "source": [
        "# You will get error if you run\n",
        "preprocessor.__data"
      ]
    },
    {
      "cell_type": "markdown",
      "metadata": {
        "id": "ojTVHNPKoo6d"
      },
      "source": [
        "## Linear Algebra"
      ]
    },
    {
      "cell_type": "markdown",
      "metadata": {
        "id": "9etVWwPkoo6d"
      },
      "source": [
        "Numpy: A supremely-optimized, well-maintained scientific computing package for Python. We will talk about some most frequently used methods, more on numpy can be found [here](https://numpy.org/devdocs/user/basics.html#numpy-fundamentals)."
      ]
    },
    {
      "cell_type": "code",
      "execution_count": null,
      "metadata": {
        "id": "MqLZazP5oo6d"
      },
      "outputs": [],
      "source": [
        "import numpy as np"
      ]
    },
    {
      "cell_type": "code",
      "execution_count": null,
      "metadata": {
        "colab": {
          "base_uri": "https://localhost:8080/"
        },
        "id": "frNzriAJoo6d",
        "outputId": "14a99f67-5271-47eb-e120-542b400ae9ee"
      },
      "outputs": [
        {
          "output_type": "stream",
          "name": "stdout",
          "text": [
            "Requirement already satisfied: numpy in /usr/local/lib/python3.11/dist-packages (1.26.4)\n"
          ]
        }
      ],
      "source": [
        "## install a package\n",
        "!pip install numpy"
      ]
    },
    {
      "cell_type": "code",
      "execution_count": null,
      "metadata": {
        "id": "qsofIgLAoo6d"
      },
      "outputs": [],
      "source": [
        "X = np.array([[1, 2, 3],\n",
        "              [4, 5, 6],\n",
        "              [7, 8, 9]])\n",
        "u = np.array([[1],\n",
        "              [2],\n",
        "              [3]])"
      ]
    },
    {
      "cell_type": "code",
      "execution_count": null,
      "metadata": {
        "id": "9TEccAZZoo6e",
        "outputId": "69a4ddb8-d6aa-479a-f171-9d128cc459fe"
      },
      "outputs": [
        {
          "name": "stdout",
          "output_type": "stream",
          "text": [
            "[[1 2 3]\n",
            " [4 5 6]\n",
            " [7 8 9]]\n",
            "shape: (3, 3)\n",
            "dim (axes): 2\n",
            "type of elements: int64\n",
            "size of elements: 8\n",
            "size: 9\n",
            "type: <class 'numpy.ndarray'>\n"
          ]
        }
      ],
      "source": [
        "## matrix\n",
        "print(X)\n",
        "print(\"shape:\", X.shape)\n",
        "print(\"dim (axes):\", X.ndim)\n",
        "print(\"type of elements:\", X.dtype.name)\n",
        "print(\"size of elements:\", X.itemsize) # Length of one array element in bytes.\n",
        "print(\"size:\", X.size)\n",
        "print(\"type:\", type(X))"
      ]
    },
    {
      "cell_type": "code",
      "execution_count": null,
      "metadata": {
        "id": "pD61mndLoo6e",
        "outputId": "da363eed-6bee-4a07-95da-234d79566c53"
      },
      "outputs": [
        {
          "name": "stdout",
          "output_type": "stream",
          "text": [
            "[[1]\n",
            " [2]\n",
            " [3]]\n",
            "shape: (3, 1)\n",
            "dim (axes): 2\n",
            "type of elements: int64\n",
            "size of elements: 8\n",
            "size: 3\n",
            "type: <class 'numpy.ndarray'>\n"
          ]
        }
      ],
      "source": [
        "## vector\n",
        "print(u)\n",
        "print(\"shape:\", u.shape)\n",
        "print(\"dim (axes):\", u.ndim)\n",
        "print(\"type of elements:\", u.dtype.name)\n",
        "print(\"size of elements:\", u.itemsize)\n",
        "print(\"size:\", u.size)\n",
        "print(\"type:\", type(u))"
      ]
    },
    {
      "cell_type": "code",
      "execution_count": null,
      "metadata": {
        "id": "m2Qg6A2voo6e",
        "outputId": "3d2a0426-5ac9-4ab0-a853-52ca0f9ccd0c"
      },
      "outputs": [
        {
          "data": {
            "text/plain": [
              "3"
            ]
          },
          "execution_count": 22,
          "metadata": {},
          "output_type": "execute_result"
        }
      ],
      "source": [
        "u.size"
      ]
    },
    {
      "cell_type": "code",
      "execution_count": null,
      "metadata": {
        "id": "Sd0tDzqGoo6e",
        "outputId": "9d7248c7-f002-4530-b0aa-dd5175217576"
      },
      "outputs": [
        {
          "data": {
            "text/plain": [
              "(3,)"
            ]
          },
          "execution_count": 23,
          "metadata": {},
          "output_type": "execute_result"
        }
      ],
      "source": [
        "u_single_dim = np.array([1, 2, 3])\n",
        "u_single_dim.shape"
      ]
    },
    {
      "cell_type": "code",
      "execution_count": null,
      "metadata": {
        "id": "MKbUJg94oo6e",
        "outputId": "4f9d8715-0f37-4d9e-f814-d14de7c23d79"
      },
      "outputs": [
        {
          "data": {
            "text/plain": [
              "1"
            ]
          },
          "execution_count": 24,
          "metadata": {},
          "output_type": "execute_result"
        }
      ],
      "source": [
        "u_single_dim.ndim"
      ]
    },
    {
      "cell_type": "code",
      "execution_count": null,
      "metadata": {
        "id": "EGGtb-Rdoo6e",
        "outputId": "71a3a5e0-7874-4d63-de9d-f96de2b0f25b"
      },
      "outputs": [
        {
          "data": {
            "text/plain": [
              "array([[2, 3],\n",
              "       [5, 6]])"
            ]
          },
          "execution_count": 25,
          "metadata": {},
          "output_type": "execute_result"
        }
      ],
      "source": [
        "## Indexing\n",
        "X[:2, 1:3]"
      ]
    },
    {
      "cell_type": "code",
      "execution_count": null,
      "metadata": {
        "id": "Xd6cbEv6oo6e",
        "outputId": "050521b4-074c-42b3-c970-e6d0c83549bf"
      },
      "outputs": [
        {
          "data": {
            "text/plain": [
              "array([5, 6])"
            ]
          },
          "execution_count": 26,
          "metadata": {},
          "output_type": "execute_result"
        }
      ],
      "source": [
        "X[1, 1:3]"
      ]
    },
    {
      "cell_type": "code",
      "execution_count": null,
      "metadata": {
        "id": "CGKIWUGyoo6f",
        "outputId": "77cd99be-677d-4d7e-b655-622bc0a3de71"
      },
      "outputs": [
        {
          "data": {
            "text/plain": [
              "array([[5, 6]])"
            ]
          },
          "execution_count": 27,
          "metadata": {},
          "output_type": "execute_result"
        }
      ],
      "source": [
        "X[1:2, 1:3]"
      ]
    },
    {
      "cell_type": "markdown",
      "metadata": {
        "id": "afx-HjtFoo6f"
      },
      "source": [
        "Matrix multiplication"
      ]
    },
    {
      "cell_type": "code",
      "execution_count": null,
      "metadata": {
        "id": "rsEdLav7oo6f",
        "outputId": "bb608032-0fbe-4557-f472-f3142c14e0ae"
      },
      "outputs": [
        {
          "data": {
            "text/plain": [
              "array([ 0.,  1.,  2.,  3.,  4.,  5.,  6.,  7.,  8.,  9., 10., 11., 12.,\n",
              "       13., 14.])"
            ]
          },
          "execution_count": 28,
          "metadata": {},
          "output_type": "execute_result"
        }
      ],
      "source": [
        "np.arange(15, dtype = float)"
      ]
    },
    {
      "cell_type": "code",
      "execution_count": null,
      "metadata": {
        "id": "s7eD0pk1oo6f",
        "outputId": "5db15bae-8fa0-42df-ad20-a50d0630f514"
      },
      "outputs": [
        {
          "data": {
            "text/plain": [
              "array([[ 0.,  1.,  2.,  3.,  4.],\n",
              "       [ 5.,  6.,  7.,  8.,  9.],\n",
              "       [10., 11., 12., 13., 14.]])"
            ]
          },
          "execution_count": 29,
          "metadata": {},
          "output_type": "execute_result"
        }
      ],
      "source": [
        "## Let us define a matrix Y\n",
        "Y = np.arange(15, dtype = float).reshape(-1, 5)\n",
        "Y"
      ]
    },
    {
      "cell_type": "code",
      "execution_count": null,
      "metadata": {
        "id": "6ARo6AVVoo6f",
        "outputId": "b00ae7c4-5791-4873-df15-d8be92bde983"
      },
      "outputs": [
        {
          "name": "stdout",
          "output_type": "stream",
          "text": [
            "Multiplied matrix:\n",
            "[[ 40.  46.  52.  58.  64.]\n",
            " [ 85. 100. 115. 130. 145.]\n",
            " [130. 154. 178. 202. 226.]]\n",
            "\n",
            "[[ 40.  46.  52.  58.  64.]\n",
            " [ 85. 100. 115. 130. 145.]\n",
            " [130. 154. 178. 202. 226.]]\n",
            "\n",
            "[[ 40.  46.  52.  58.  64.]\n",
            " [ 85. 100. 115. 130. 145.]\n",
            " [130. 154. 178. 202. 226.]]\n"
          ]
        }
      ],
      "source": [
        "print('Multiplied matrix:')\n",
        "print(np.matmul(X, Y)) # matrix multiplication of X and Y\n",
        "print()\n",
        "# X * Y\n",
        "print(X @ Y) # In Python >= 3.5\n",
        "print()\n",
        "print(np.dot(X, Y)) ## same as matmul for 2-d matricesprint()"
      ]
    },
    {
      "cell_type": "code",
      "execution_count": null,
      "metadata": {
        "id": "1su8iK7Koo6g",
        "outputId": "dd925121-04f0-4fe3-f083-0ec0ea3df210"
      },
      "outputs": [
        {
          "name": "stdout",
          "output_type": "stream",
          "text": [
            "[[14]\n",
            " [32]\n",
            " [50]]\n",
            "\n",
            "[[14]\n",
            " [32]\n",
            " [50]]\n",
            "\n",
            "[[14]\n",
            " [32]\n",
            " [50]]\n"
          ]
        }
      ],
      "source": [
        "## Dot product between a matrix and a vector\n",
        "print(np.dot(X, u))\n",
        "print()\n",
        "print(np.matmul(X, u))\n",
        "print()\n",
        "print(X @ u)"
      ]
    },
    {
      "cell_type": "code",
      "execution_count": null,
      "metadata": {
        "id": "YGJehb7woo6g",
        "outputId": "3d4c03e2-cb52-4cd6-a3bc-235569edf1c2"
      },
      "outputs": [
        {
          "name": "stdout",
          "output_type": "stream",
          "text": [
            "[14 32 50]\n",
            "\n",
            "[14 32 50]\n",
            "\n",
            "[14 32 50]\n"
          ]
        }
      ],
      "source": [
        "## Using single dim vectors\n",
        "print(np.dot(X, u_single_dim))\n",
        "print()\n",
        "print(np.matmul(X, u_single_dim))\n",
        "print()\n",
        "print(X @ u_single_dim)"
      ]
    },
    {
      "cell_type": "code",
      "execution_count": null,
      "metadata": {
        "id": "k-oWQCGioo6g",
        "outputId": "f643af7a-3b67-4a66-81b4-64724a970647"
      },
      "outputs": [
        {
          "name": "stdout",
          "output_type": "stream",
          "text": [
            "[[ 1  2  3]\n",
            " [ 8 10 12]\n",
            " [21 24 27]]\n",
            "\n",
            "[[ 1  2  3]\n",
            " [ 8 10 12]\n",
            " [21 24 27]]\n"
          ]
        }
      ],
      "source": [
        "## Element wise operation\n",
        "print(np.multiply(X, u))\n",
        "print()\n",
        "print(X * u)"
      ]
    },
    {
      "cell_type": "code",
      "execution_count": null,
      "metadata": {
        "id": "oVRyGe8Uoo6h",
        "outputId": "50e70bf6-9d0d-4bb0-ef02-062b65da7cca"
      },
      "outputs": [
        {
          "name": "stdout",
          "output_type": "stream",
          "text": [
            "[[1 4 7]\n",
            " [2 5 8]\n",
            " [3 6 9]]\n",
            "\n",
            "[[1 2 3]]\n"
          ]
        }
      ],
      "source": [
        "### Transpose\n",
        "print(X.T) # transpose a matrix\n",
        "print()\n",
        "print(u.T) # transpose a vector"
      ]
    },
    {
      "cell_type": "code",
      "execution_count": null,
      "metadata": {
        "id": "4O-nzeFroo6h",
        "outputId": "0e84f8a2-1098-443b-e732-def87cfa46ea"
      },
      "outputs": [
        {
          "name": "stdout",
          "output_type": "stream",
          "text": [
            "[[ 0.  1.  2.  3.  4.]\n",
            " [ 5.  6.  7.  8.  9.]\n",
            " [10. 11. 12. 13. 14.]]\n",
            "\n",
            "---\n",
            "[[0. 0. 0. 0.]\n",
            " [0. 0. 0. 0.]\n",
            " [0. 0. 0. 0.]]\n",
            "\n",
            "---\n",
            "[[[[1. 1. 1. 1.]\n",
            "   [1. 1. 1. 1.]\n",
            "   [1. 1. 1. 1.]]\n",
            "\n",
            "  [[1. 1. 1. 1.]\n",
            "   [1. 1. 1. 1.]\n",
            "   [1. 1. 1. 1.]]]]\n",
            "\n",
            "---\n",
            "[['' '' '']]\n",
            "\n",
            "---\n",
            "[[1. 0. 0.]\n",
            " [0. 1. 0.]\n",
            " [0. 0. 1.]]\n"
          ]
        }
      ],
      "source": [
        "## Special matrices\n",
        "print( np.arange(15, dtype = float).reshape(3, 5))\n",
        "print( \"\\n---\")\n",
        "\n",
        "print( np.zeros((3,4))) # all zeroes\n",
        "print( \"\\n---\")\n",
        "\n",
        "print( np.ones((1,2,3,4))) # all ones\n",
        "print( \"\\n---\")\n",
        "\n",
        "print( np.empty((1,3), dtype = str)) # empty\n",
        "print( \"\\n---\")\n",
        "\n",
        "print(np.eye(3))  # identity matrix of dimension 3"
      ]
    },
    {
      "cell_type": "code",
      "execution_count": null,
      "metadata": {
        "id": "nbfqKDcmoo6h",
        "outputId": "11b420a2-08fd-4d61-b0cc-ed19d9554550"
      },
      "outputs": [
        {
          "name": "stdout",
          "output_type": "stream",
          "text": [
            "[20 29 38 47]\n",
            "[0 1 4 9]\n",
            "[ 9.12945251 -9.88031624  7.4511316  -2.62374854]\n",
            "[ True  True False False]\n"
          ]
        }
      ],
      "source": [
        "### Element-wise operations\n",
        "\n",
        "a = np.array( [20, 30, 40, 50] )\n",
        "b = np.arange( 4 )\n",
        "\n",
        "print(a-b)                  # Addition/Subtration\n",
        "\n",
        "print(b**2)                 # Exponentiation\n",
        "\n",
        "print(10*np.sin(a))         # Multiplication (!)\n",
        "\n",
        "print(a < 35)               # Boolean"
      ]
    },
    {
      "cell_type": "markdown",
      "metadata": {
        "id": "YngdGG5Soo6i"
      },
      "source": [
        "More on numpy at [here](https://numpy.org/devdocs/user/basics.html#numpy-fundamentals)."
      ]
    },
    {
      "cell_type": "markdown",
      "metadata": {
        "id": "f4ud6pMHoo6i"
      },
      "source": [
        "## Data Processing"
      ]
    },
    {
      "cell_type": "code",
      "execution_count": null,
      "metadata": {
        "id": "X6qFUwSpoo6i"
      },
      "outputs": [],
      "source": [
        "from sklearn.datasets import load_iris\n",
        "import pandas as pd\n",
        "## basic operations for pandas\n",
        "## link for cheatsheet\n",
        "\n",
        "dataset_iris = load_iris()\n",
        "iris = pd.DataFrame(dataset_iris.data, columns=dataset_iris.feature_names)\n",
        "iris['target'] = dataset_iris.target"
      ]
    },
    {
      "cell_type": "code",
      "execution_count": null,
      "metadata": {
        "id": "aRd6ShuToo6j",
        "outputId": "5f145a74-7ea0-4510-e49b-d65c2eca6b88"
      },
      "outputs": [
        {
          "data": {
            "text/html": [
              "<div>\n",
              "<style scoped>\n",
              "    .dataframe tbody tr th:only-of-type {\n",
              "        vertical-align: middle;\n",
              "    }\n",
              "\n",
              "    .dataframe tbody tr th {\n",
              "        vertical-align: top;\n",
              "    }\n",
              "\n",
              "    .dataframe thead th {\n",
              "        text-align: right;\n",
              "    }\n",
              "</style>\n",
              "<table border=\"1\" class=\"dataframe\">\n",
              "  <thead>\n",
              "    <tr style=\"text-align: right;\">\n",
              "      <th></th>\n",
              "      <th>sepal length (cm)</th>\n",
              "      <th>sepal width (cm)</th>\n",
              "      <th>petal length (cm)</th>\n",
              "      <th>petal width (cm)</th>\n",
              "      <th>target</th>\n",
              "    </tr>\n",
              "  </thead>\n",
              "  <tbody>\n",
              "    <tr>\n",
              "      <th>0</th>\n",
              "      <td>5.1</td>\n",
              "      <td>3.5</td>\n",
              "      <td>1.4</td>\n",
              "      <td>0.2</td>\n",
              "      <td>0</td>\n",
              "    </tr>\n",
              "    <tr>\n",
              "      <th>1</th>\n",
              "      <td>4.9</td>\n",
              "      <td>3.0</td>\n",
              "      <td>1.4</td>\n",
              "      <td>0.2</td>\n",
              "      <td>0</td>\n",
              "    </tr>\n",
              "    <tr>\n",
              "      <th>2</th>\n",
              "      <td>4.7</td>\n",
              "      <td>3.2</td>\n",
              "      <td>1.3</td>\n",
              "      <td>0.2</td>\n",
              "      <td>0</td>\n",
              "    </tr>\n",
              "    <tr>\n",
              "      <th>3</th>\n",
              "      <td>4.6</td>\n",
              "      <td>3.1</td>\n",
              "      <td>1.5</td>\n",
              "      <td>0.2</td>\n",
              "      <td>0</td>\n",
              "    </tr>\n",
              "    <tr>\n",
              "      <th>4</th>\n",
              "      <td>5.0</td>\n",
              "      <td>3.6</td>\n",
              "      <td>1.4</td>\n",
              "      <td>0.2</td>\n",
              "      <td>0</td>\n",
              "    </tr>\n",
              "    <tr>\n",
              "      <th>...</th>\n",
              "      <td>...</td>\n",
              "      <td>...</td>\n",
              "      <td>...</td>\n",
              "      <td>...</td>\n",
              "      <td>...</td>\n",
              "    </tr>\n",
              "    <tr>\n",
              "      <th>145</th>\n",
              "      <td>6.7</td>\n",
              "      <td>3.0</td>\n",
              "      <td>5.2</td>\n",
              "      <td>2.3</td>\n",
              "      <td>2</td>\n",
              "    </tr>\n",
              "    <tr>\n",
              "      <th>146</th>\n",
              "      <td>6.3</td>\n",
              "      <td>2.5</td>\n",
              "      <td>5.0</td>\n",
              "      <td>1.9</td>\n",
              "      <td>2</td>\n",
              "    </tr>\n",
              "    <tr>\n",
              "      <th>147</th>\n",
              "      <td>6.5</td>\n",
              "      <td>3.0</td>\n",
              "      <td>5.2</td>\n",
              "      <td>2.0</td>\n",
              "      <td>2</td>\n",
              "    </tr>\n",
              "    <tr>\n",
              "      <th>148</th>\n",
              "      <td>6.2</td>\n",
              "      <td>3.4</td>\n",
              "      <td>5.4</td>\n",
              "      <td>2.3</td>\n",
              "      <td>2</td>\n",
              "    </tr>\n",
              "    <tr>\n",
              "      <th>149</th>\n",
              "      <td>5.9</td>\n",
              "      <td>3.0</td>\n",
              "      <td>5.1</td>\n",
              "      <td>1.8</td>\n",
              "      <td>2</td>\n",
              "    </tr>\n",
              "  </tbody>\n",
              "</table>\n",
              "<p>150 rows × 5 columns</p>\n",
              "</div>"
            ],
            "text/plain": [
              "     sepal length (cm)  sepal width (cm)  petal length (cm)  petal width (cm)  \\\n",
              "0                  5.1               3.5                1.4               0.2   \n",
              "1                  4.9               3.0                1.4               0.2   \n",
              "2                  4.7               3.2                1.3               0.2   \n",
              "3                  4.6               3.1                1.5               0.2   \n",
              "4                  5.0               3.6                1.4               0.2   \n",
              "..                 ...               ...                ...               ...   \n",
              "145                6.7               3.0                5.2               2.3   \n",
              "146                6.3               2.5                5.0               1.9   \n",
              "147                6.5               3.0                5.2               2.0   \n",
              "148                6.2               3.4                5.4               2.3   \n",
              "149                5.9               3.0                5.1               1.8   \n",
              "\n",
              "     target  \n",
              "0         0  \n",
              "1         0  \n",
              "2         0  \n",
              "3         0  \n",
              "4         0  \n",
              "..      ...  \n",
              "145       2  \n",
              "146       2  \n",
              "147       2  \n",
              "148       2  \n",
              "149       2  \n",
              "\n",
              "[150 rows x 5 columns]"
            ]
          },
          "execution_count": 38,
          "metadata": {},
          "output_type": "execute_result"
        }
      ],
      "source": [
        "iris"
      ]
    },
    {
      "cell_type": "code",
      "execution_count": null,
      "metadata": {
        "id": "tPi3ukwjoo6j",
        "outputId": "00286322-ee1b-4e12-a231-043490614e8d"
      },
      "outputs": [
        {
          "data": {
            "text/plain": [
              "(150, 5)"
            ]
          },
          "execution_count": 39,
          "metadata": {},
          "output_type": "execute_result"
        }
      ],
      "source": [
        "# data size\n",
        "iris.shape"
      ]
    },
    {
      "cell_type": "code",
      "execution_count": null,
      "metadata": {
        "id": "NNcbKBaloo6k",
        "outputId": "d3216c29-cda4-42fd-a36d-1ae7d6ad6db4"
      },
      "outputs": [
        {
          "data": {
            "text/plain": [
              "Index(['sepal length (cm)', 'sepal width (cm)', 'petal length (cm)',\n",
              "       'petal width (cm)', 'target'],\n",
              "      dtype='object')"
            ]
          },
          "execution_count": 40,
          "metadata": {},
          "output_type": "execute_result"
        }
      ],
      "source": [
        "# data schema\n",
        "iris.columns"
      ]
    },
    {
      "cell_type": "code",
      "execution_count": null,
      "metadata": {
        "id": "kuQQ71tjoo6k",
        "outputId": "2efa17b8-819c-4307-ade9-89a21ed63e10"
      },
      "outputs": [
        {
          "data": {
            "text/html": [
              "<div>\n",
              "<style scoped>\n",
              "    .dataframe tbody tr th:only-of-type {\n",
              "        vertical-align: middle;\n",
              "    }\n",
              "\n",
              "    .dataframe tbody tr th {\n",
              "        vertical-align: top;\n",
              "    }\n",
              "\n",
              "    .dataframe thead th {\n",
              "        text-align: right;\n",
              "    }\n",
              "</style>\n",
              "<table border=\"1\" class=\"dataframe\">\n",
              "  <thead>\n",
              "    <tr style=\"text-align: right;\">\n",
              "      <th></th>\n",
              "      <th>sepal_length</th>\n",
              "      <th>sepal_width</th>\n",
              "      <th>petal_length</th>\n",
              "      <th>petal_width</th>\n",
              "      <th>target</th>\n",
              "    </tr>\n",
              "  </thead>\n",
              "  <tbody>\n",
              "    <tr>\n",
              "      <th>0</th>\n",
              "      <td>5.1</td>\n",
              "      <td>3.5</td>\n",
              "      <td>1.4</td>\n",
              "      <td>0.2</td>\n",
              "      <td>0</td>\n",
              "    </tr>\n",
              "    <tr>\n",
              "      <th>1</th>\n",
              "      <td>4.9</td>\n",
              "      <td>3.0</td>\n",
              "      <td>1.4</td>\n",
              "      <td>0.2</td>\n",
              "      <td>0</td>\n",
              "    </tr>\n",
              "    <tr>\n",
              "      <th>2</th>\n",
              "      <td>4.7</td>\n",
              "      <td>3.2</td>\n",
              "      <td>1.3</td>\n",
              "      <td>0.2</td>\n",
              "      <td>0</td>\n",
              "    </tr>\n",
              "    <tr>\n",
              "      <th>3</th>\n",
              "      <td>4.6</td>\n",
              "      <td>3.1</td>\n",
              "      <td>1.5</td>\n",
              "      <td>0.2</td>\n",
              "      <td>0</td>\n",
              "    </tr>\n",
              "    <tr>\n",
              "      <th>4</th>\n",
              "      <td>5.0</td>\n",
              "      <td>3.6</td>\n",
              "      <td>1.4</td>\n",
              "      <td>0.2</td>\n",
              "      <td>0</td>\n",
              "    </tr>\n",
              "  </tbody>\n",
              "</table>\n",
              "</div>"
            ],
            "text/plain": [
              "   sepal_length  sepal_width  petal_length  petal_width  target\n",
              "0           5.1          3.5           1.4          0.2       0\n",
              "1           4.9          3.0           1.4          0.2       0\n",
              "2           4.7          3.2           1.3          0.2       0\n",
              "3           4.6          3.1           1.5          0.2       0\n",
              "4           5.0          3.6           1.4          0.2       0"
            ]
          },
          "execution_count": 41,
          "metadata": {},
          "output_type": "execute_result"
        }
      ],
      "source": [
        "# rename the columns\n",
        "iris.columns = ['sepal_length', 'sepal_width', 'petal_length', 'petal_width', 'target']\n",
        "iris.head()"
      ]
    },
    {
      "cell_type": "code",
      "execution_count": null,
      "metadata": {
        "id": "Mj9hScMhoo6k",
        "outputId": "ab86170d-93a4-4958-a7b7-70e31b106439"
      },
      "outputs": [
        {
          "name": "stdout",
          "output_type": "stream",
          "text": [
            "0    5.1\n",
            "1    4.9\n",
            "2    4.7\n",
            "3    4.6\n",
            "4    5.0\n",
            "Name: sepal_length, dtype: float64\n",
            "   sepal_length  sepal_width\n",
            "0           5.1          3.5\n",
            "1           4.9          3.0\n",
            "2           4.7          3.2\n",
            "3           4.6          3.1\n",
            "4           5.0          3.6\n"
          ]
        }
      ],
      "source": [
        "### Selecting Columns\n",
        "\n",
        "## You can select columns in pandas to work with specific data:\n",
        "\n",
        "# Select a single column\n",
        "print(iris['sepal_length'].head())\n",
        "\n",
        "# Select multiple columns\n",
        "print(iris[['sepal_length', 'sepal_width']].head())"
      ]
    },
    {
      "cell_type": "code",
      "execution_count": null,
      "metadata": {
        "id": "RejWdaoDoo6k",
        "outputId": "9ad7d1aa-429f-4e6e-fcde-c236b300f2ff"
      },
      "outputs": [
        {
          "name": "stdout",
          "output_type": "stream",
          "text": [
            "Empty DataFrame\n",
            "Columns: [sepal_length, sepal_width, petal_length, petal_width, target]\n",
            "Index: []\n",
            "    sepal_length  sepal_width  petal_length  petal_width  target\n",
            "0            5.1          3.5           1.4          0.2       0\n",
            "5            5.4          3.9           1.7          0.4       0\n",
            "10           5.4          3.7           1.5          0.2       0\n",
            "14           5.8          4.0           1.2          0.2       0\n",
            "15           5.7          4.4           1.5          0.4       0\n"
          ]
        }
      ],
      "source": [
        "### Filtering Rows\n",
        "\n",
        "## Filtering allows you to extract rows that match specific conditions:\n",
        "\n",
        "# Filter rows based on a condition\n",
        "filtered = iris[iris['target'] == 'setosa']\n",
        "print(filtered.head())\n",
        "\n",
        "# Filter rows where sepal length is greater than 5.0\n",
        "filtered_length = iris[iris['sepal_length'] > 5.0]\n",
        "print(filtered_length.head())"
      ]
    },
    {
      "cell_type": "code",
      "execution_count": null,
      "metadata": {
        "id": "bNk8SryHoo6k",
        "outputId": "648c732e-d19e-47a0-c245-cfd9e2f42fa5"
      },
      "outputs": [
        {
          "name": "stdout",
          "output_type": "stream",
          "text": [
            "   sepal_length  sepal_width  petal_length  petal_width  target  sepal_ratio\n",
            "0           5.1          3.5           1.4          0.2       0     1.457143\n",
            "1           4.9          3.0           1.4          0.2       0     1.633333\n",
            "2           4.7          3.2           1.3          0.2       0     1.468750\n",
            "3           4.6          3.1           1.5          0.2       0     1.483871\n",
            "4           5.0          3.6           1.4          0.2       0     1.388889\n",
            "   sepal_length  sepal_width  petal_length  petal_width  target  sepal_ratio  \\\n",
            "0           5.1          3.5           1.4          0.2       0     1.457143   \n",
            "1           4.9          3.0           1.4          0.2       0     1.633333   \n",
            "2           4.7          3.2           1.3          0.2       0     1.468750   \n",
            "3           4.6          3.1           1.5          0.2       0     1.483871   \n",
            "4           5.0          3.6           1.4          0.2       0     1.388889   \n",
            "\n",
            "   is_petal_long  \n",
            "0          False  \n",
            "1          False  \n",
            "2          False  \n",
            "3          False  \n",
            "4          False  \n"
          ]
        }
      ],
      "source": [
        "### Adding New Columns\n",
        "\n",
        "## You can create new columns based on existing ones:\n",
        "\n",
        "# Add a new column\n",
        "iris['sepal_ratio'] = iris['sepal_length'] / iris['sepal_width']\n",
        "print(iris.head())\n",
        "\n",
        "# Add a column indicating if the petal length is above average\n",
        "average_petal_length = iris['petal_length'].mean()\n",
        "iris['is_petal_long'] = iris['petal_length'] > average_petal_length\n",
        "print(iris.head())"
      ]
    },
    {
      "cell_type": "code",
      "execution_count": null,
      "metadata": {
        "id": "8xX-G_9Ioo6l",
        "outputId": "3a9020ef-f3bc-4e19-9a35-2f78ef44fb47"
      },
      "outputs": [
        {
          "name": "stdout",
          "output_type": "stream",
          "text": [
            "   sepal_length  sepal_length_mm\n",
            "0           5.1             51.0\n",
            "1           4.9             49.0\n",
            "2           4.7             47.0\n",
            "3           4.6             46.0\n",
            "4           5.0             50.0\n"
          ]
        }
      ],
      "source": [
        "### Updating Existing Columns\n",
        "\n",
        "# Update column values (e.g., convert sepal length to centimeters)\n",
        "iris['sepal_length_mm'] = iris['sepal_length'] * 10\n",
        "print(iris[['sepal_length', 'sepal_length_mm']].head())"
      ]
    },
    {
      "cell_type": "code",
      "execution_count": null,
      "metadata": {
        "id": "xoSdFFvMoo6l",
        "outputId": "c0f4af92-c75f-462f-a6b9-12af637a2649"
      },
      "outputs": [
        {
          "name": "stdout",
          "output_type": "stream",
          "text": [
            "   sepal_length  sepal_width  petal_length  petal_width  target  \\\n",
            "0           5.1          3.5           1.4          0.2       0   \n",
            "1           4.9          3.0           1.4          0.2       0   \n",
            "2           4.7          3.2           1.3          0.2       0   \n",
            "3           4.6          3.1           1.5          0.2       0   \n",
            "4           5.0          3.6           1.4          0.2       0   \n",
            "\n",
            "   is_petal_long  sepal_length_mm  \n",
            "0          False             51.0  \n",
            "1          False             49.0  \n",
            "2          False             47.0  \n",
            "3          False             46.0  \n",
            "4          False             50.0  \n",
            "   sepal_length  sepal_width  petal_length  petal_width  target  \\\n",
            "0           5.1          3.5           1.4          0.2       0   \n",
            "1           4.9          3.0           1.4          0.2       0   \n",
            "2           4.7          3.2           1.3          0.2       0   \n",
            "3           4.6          3.1           1.5          0.2       0   \n",
            "4           5.0          3.6           1.4          0.2       0   \n",
            "\n",
            "   sepal_length_mm  \n",
            "0             51.0  \n",
            "1             49.0  \n",
            "2             47.0  \n",
            "3             46.0  \n",
            "4             50.0  \n"
          ]
        }
      ],
      "source": [
        "### Removing Columns\n",
        "\n",
        "## Remove unnecessary columns using the `drop()` method:\n",
        "\n",
        "# Drop a single column\n",
        "iris_dropped = iris.drop(columns=['sepal_ratio'])\n",
        "print(iris_dropped.head())\n",
        "\n",
        "# Drop multiple columns\n",
        "iris_dropped = iris.drop(columns=['sepal_ratio', 'is_petal_long'])\n",
        "print(iris_dropped.head())"
      ]
    },
    {
      "cell_type": "code",
      "execution_count": null,
      "metadata": {
        "id": "avsyEd9coo6l",
        "outputId": "d034a1a9-8c7c-4d0b-b164-ce1fd9f56605"
      },
      "outputs": [
        {
          "name": "stdout",
          "output_type": "stream",
          "text": [
            "        sepal_length  sepal_width  petal_length  petal_width  sepal_ratio  \\\n",
            "target                                                                      \n",
            "0              5.006        3.428         1.462        0.246     1.470188   \n",
            "1              5.936        2.770         4.260        1.326     2.160402   \n",
            "2              6.588        2.974         5.552        2.026     2.230453   \n",
            "\n",
            "        is_petal_long  sepal_length_mm  \n",
            "target                                  \n",
            "0                0.00            50.06  \n",
            "1                0.86            59.36  \n",
            "2                1.00            65.88  \n",
            "       sepal_length                  sepal_width                   \\\n",
            "               mean median       std        mean median       std   \n",
            "target                                                              \n",
            "0             5.006    5.0  0.352490       3.428    3.4  0.379064   \n",
            "1             5.936    5.9  0.516171       2.770    2.8  0.313798   \n",
            "2             6.588    6.5  0.635880       2.974    3.0  0.322497   \n",
            "\n",
            "       petal_length                  petal_width  ...           sepal_ratio  \\\n",
            "               mean median       std        mean  ...       std        mean   \n",
            "target                                            ...                         \n",
            "0             1.462   1.50  0.173664       0.246  ...  0.105386    1.470188   \n",
            "1             4.260   4.35  0.469911       1.326  ...  0.197753    2.160402   \n",
            "2             5.552   5.55  0.551895       2.026  ...  0.274650    2.230453   \n",
            "\n",
            "                           is_petal_long                 sepal_length_mm  \\\n",
            "          median       std          mean median      std            mean   \n",
            "target                                                                     \n",
            "0       1.463063  0.118750          0.00    0.0  0.00000           50.06   \n",
            "1       2.161290  0.228658          0.86    1.0  0.35051           59.36   \n",
            "2       2.169540  0.246992          1.00    1.0  0.00000           65.88   \n",
            "\n",
            "                         \n",
            "       median       std  \n",
            "target                   \n",
            "0        50.0  3.524897  \n",
            "1        59.0  5.161711  \n",
            "2        65.0  6.358796  \n",
            "\n",
            "[3 rows x 21 columns]\n"
          ]
        }
      ],
      "source": [
        "### Grouping and Aggregation\n",
        "\n",
        "## Grouping and aggregation enable you to summarize data effectively:\n",
        "\n",
        "# Group by species and calculate the mean\n",
        "grouped = iris.groupby('target').mean()\n",
        "print(grouped)\n",
        "\n",
        "# Group by species and calculate multiple statistics\n",
        "grouped_stats = iris.groupby('target').agg(['mean', 'median', 'std'])\n",
        "print(grouped_stats)"
      ]
    },
    {
      "cell_type": "code",
      "execution_count": null,
      "metadata": {
        "id": "B8a-Cb7qoo6l",
        "outputId": "fd998e91-2030-4caa-aca0-f65254765cd2"
      },
      "outputs": [
        {
          "name": "stdout",
          "output_type": "stream",
          "text": [
            "    sepal_length  sepal_width  petal_length  petal_width  target  sepal_ratio  \\\n",
            "13           4.3          3.0           1.1          0.1       0     1.433333   \n",
            "42           4.4          3.2           1.3          0.2       0     1.375000   \n",
            "38           4.4          3.0           1.3          0.2       0     1.466667   \n",
            "8            4.4          2.9           1.4          0.2       0     1.517241   \n",
            "41           4.5          2.3           1.3          0.3       0     1.956522   \n",
            "\n",
            "    is_petal_long  sepal_length_mm  \n",
            "13          False             43.0  \n",
            "42          False             44.0  \n",
            "38          False             44.0  \n",
            "8           False             44.0  \n",
            "41          False             45.0  \n",
            "     sepal_length  sepal_width  petal_length  petal_width  target  \\\n",
            "131           7.9          3.8           6.4          2.0       2   \n",
            "135           7.7          3.0           6.1          2.3       2   \n",
            "122           7.7          2.8           6.7          2.0       2   \n",
            "117           7.7          3.8           6.7          2.2       2   \n",
            "118           7.7          2.6           6.9          2.3       2   \n",
            "\n",
            "     sepal_ratio  is_petal_long  sepal_length_mm  \n",
            "131     2.078947           True             79.0  \n",
            "135     2.566667           True             77.0  \n",
            "122     2.750000           True             77.0  \n",
            "117     2.026316           True             77.0  \n",
            "118     2.961538           True             77.0  \n"
          ]
        }
      ],
      "source": [
        "### Sorting Data\n",
        "\n",
        "## Sort the data by one or more columns:\n",
        "\n",
        "# Sort by sepal length in ascending order\n",
        "sorted_iris = iris.sort_values(by='sepal_length')\n",
        "print(sorted_iris.head())\n",
        "\n",
        "# Sort by sepal length in descending order\n",
        "sorted_iris_desc = iris.sort_values(by='sepal_length', ascending=False)\n",
        "print(sorted_iris_desc.head())"
      ]
    },
    {
      "cell_type": "code",
      "execution_count": null,
      "metadata": {
        "id": "MXt8e6uXoo6l"
      },
      "outputs": [],
      "source": [
        "## Save DataFrame\n",
        "iris.to_csv(\"iris_processed.csv\", index=False)"
      ]
    },
    {
      "cell_type": "code",
      "execution_count": null,
      "metadata": {
        "id": "qBcU0fsKoo6l"
      },
      "outputs": [],
      "source": [
        "## Load DataFrame\n",
        "iris_new = pd.read_csv(\"iris_processed.csv\")"
      ]
    },
    {
      "cell_type": "markdown",
      "metadata": {
        "id": "4GAHKlfnoo6m"
      },
      "source": [
        "For more usage of pandas, see for example [here](https://pandas.pydata.org/docs/getting_started/tutorials.html)."
      ]
    },
    {
      "cell_type": "markdown",
      "metadata": {
        "id": "fgBYHHw6oo6m"
      },
      "source": [
        "## Data Visualization"
      ]
    },
    {
      "cell_type": "markdown",
      "metadata": {
        "id": "7QQ3j23too6m"
      },
      "source": [
        "Matplotlib is a versatile library for creating static, interactive, and animated visualizations in Python. We will take a look at the most used plots. [Matplotlib website](https://matplotlib.org/stable/plot_types/index) has a gallery of different types of plots you can use."
      ]
    },
    {
      "cell_type": "code",
      "execution_count": null,
      "metadata": {
        "id": "4uLPD4agoo6m"
      },
      "outputs": [],
      "source": [
        "import matplotlib.pyplot as plt"
      ]
    },
    {
      "cell_type": "code",
      "execution_count": null,
      "metadata": {
        "id": "HRUdf02joo6m",
        "outputId": "2ed92732-da3a-4f50-c914-ee6a21108349"
      },
      "outputs": [
        {
          "data": {
            "image/png": "[encoded data removed]",
            "text/plain": [
              "<Figure size 576x432 with 1 Axes>"
            ]
          },
          "metadata": {
            "needs_background": "light"
          },
          "output_type": "display_data"
        }
      ],
      "source": [
        "# Histograms are great for visualizing the distribution of a single numerical variable.\n",
        "# Histogram of petal lengths\n",
        "plt.figure(figsize=(8, 6))\n",
        "plt.hist(iris['petal_length'], bins=20, color='skyblue', edgecolor='black')\n",
        "plt.title('Distribution of Petal Length')\n",
        "plt.xlabel('Petal Length (cm)')\n",
        "plt.ylabel('Frequency')\n",
        "plt.grid(axis='y')\n",
        "plt.show()"
      ]
    },
    {
      "cell_type": "code",
      "execution_count": null,
      "metadata": {
        "id": "UA4VwPeLoo6m",
        "outputId": "03662fd3-e4c9-4471-9bc1-3a7dd21acc01"
      },
      "outputs": [
        {
          "data": {
            "image/png": "[encoded data removed]",
            "text/plain": [
              "<Figure size 720x432 with 1 Axes>"
            ]
          },
          "metadata": {
            "needs_background": "light"
          },
          "output_type": "display_data"
        }
      ],
      "source": [
        "# comparing attributes with boxplot\n",
        "plt.figure(figsize=(10, 6))\n",
        "iris[['sepal_length', 'sepal_width', 'petal_length', 'petal_width']].boxplot()\n",
        "plt.ylabel('Values (in cm)')\n",
        "plt.show()"
      ]
    },
    {
      "cell_type": "code",
      "execution_count": null,
      "metadata": {
        "id": "qN_r9rOIoo6n",
        "outputId": "59d7139a-d76d-4cce-e8a9-8a76a1b1af1a"
      },
      "outputs": [
        {
          "data": {
            "text/plain": [
              "array([0, 1, 2])"
            ]
          },
          "execution_count": 54,
          "metadata": {},
          "output_type": "execute_result"
        }
      ],
      "source": [
        "iris['target'].unique()"
      ]
    },
    {
      "cell_type": "code",
      "execution_count": null,
      "metadata": {
        "id": "Pfi67LA4oo6n",
        "outputId": "d19233fc-5b1b-411c-956f-d5917735cc14"
      },
      "outputs": [
        {
          "data": {
            "image/png": "[encoded data removed]",
            "text/plain": [
              "<Figure size 576x360 with 1 Axes>"
            ]
          },
          "metadata": {
            "needs_background": "light"
          },
          "output_type": "display_data"
        }
      ],
      "source": [
        "# comparing classes\n",
        "# let's take a look at the box plots of target for attribute \"petal width\"\n",
        "plt.figure(figsize=(8, 5))\n",
        "pw_0 = iris[iris['target'] == 0]['petal_width']\n",
        "pw_1 = iris[iris['target'] == 1]['petal_width']\n",
        "pw_2 = iris[iris['target'] == 2]['petal_width']\n",
        "\n",
        "plt.boxplot([pw_0, pw_1, pw_2])\n",
        "plt.ylabel('(petal width) Values (in cm)')\n",
        "plt.xlabel('target (label)')\n",
        "plt.show()"
      ]
    },
    {
      "cell_type": "code",
      "execution_count": null,
      "metadata": {
        "id": "NMiNKpyJoo6n",
        "outputId": "1214d515-f7a3-4e9f-a9d7-989c067188ee"
      },
      "outputs": [
        {
          "data": {
            "image/png": "[encoded data removed]",
            "text/plain": [
              "<Figure size 1080x1080 with 16 Axes>"
            ]
          },
          "metadata": {
            "needs_background": "light"
          },
          "output_type": "display_data"
        }
      ],
      "source": [
        "## Scatter plots help us visualize data in 2D.\n",
        "pd.plotting.scatter_matrix(iris[['sepal_length', 'sepal_width', 'petal_length', 'petal_width']],\n",
        "                                 c=iris['target'], figsize=(15, 15), s=60, alpha=.8)\n",
        "plt.show()"
      ]
    },
    {
      "cell_type": "markdown",
      "metadata": {
        "id": "xyXjL66koo6n"
      },
      "source": [
        "## Overview: Classification with Sci-Kit Learn"
      ]
    },
    {
      "cell_type": "code",
      "execution_count": null,
      "metadata": {
        "id": "liTfKApToo6n",
        "outputId": "97b1293a-d746-40de-faac-1b89c646052f"
      },
      "outputs": [
        {
          "name": "stdout",
          "output_type": "stream",
          "text": [
            "Random Forest Accuracy: 100.00%\n",
            "Support Vector Machine Accuracy: 96.67%\n",
            "K-Nearest Neighbors Accuracy: 100.00%\n",
            "Decision Tree Accuracy: 100.00%\n"
          ]
        }
      ],
      "source": [
        "# Import necessary libraries\n",
        "from sklearn.datasets import load_iris\n",
        "from sklearn.model_selection import train_test_split\n",
        "from sklearn.preprocessing import StandardScaler\n",
        "from sklearn.ensemble import RandomForestClassifier\n",
        "from sklearn.svm import SVC\n",
        "from sklearn.neighbors import KNeighborsClassifier\n",
        "from sklearn.tree import DecisionTreeClassifier\n",
        "from sklearn.metrics import accuracy_score\n",
        "\n",
        "# Load the Iris dataset\n",
        "data = load_iris()\n",
        "X, y = data.data, data.target\n",
        "\n",
        "# Split the data into training and testing sets\n",
        "X_train, X_test, y_train, y_test = train_test_split(X, y, test_size=0.2, random_state=42)\n",
        "\n",
        "# Standardize the features\n",
        "scaler = StandardScaler()\n",
        "X_train = scaler.fit_transform(X_train)\n",
        "X_test = scaler.transform(X_test)\n",
        "\n",
        "# Initialize classifiers\n",
        "classifiers = {\n",
        "    \"Random Forest\": RandomForestClassifier(n_estimators=100, random_state=42),\n",
        "    \"Support Vector Machine\": SVC(kernel='linear', random_state=42),\n",
        "    \"K-Nearest Neighbors\": KNeighborsClassifier(n_neighbors=5),\n",
        "    \"Decision Tree\": DecisionTreeClassifier(random_state=42)\n",
        "    ## More methods at https://scikit-learn.org/stable/\n",
        "}\n",
        "\n",
        "# Train and evaluate each classifier\n",
        "for name, clf in classifiers.items():\n",
        "    clf.fit(X_train, y_train)  # Train the classifier\n",
        "    predictions = clf.predict(X_test)  # Make predictions\n",
        "    accuracy = accuracy_score(y_test, predictions)  # Calculate accuracy\n",
        "    print(f\"{name} Accuracy: {accuracy * 100:.2f}%\")\n"
      ]
    },
    {
      "cell_type": "markdown",
      "metadata": {
        "id": "VzpIAdV4oo6o"
      },
      "source": [
        "## Overview: Classification with PyTorch"
      ]
    },
    {
      "cell_type": "code",
      "execution_count": null,
      "metadata": {
        "id": "vaVOEHh8oo6o",
        "outputId": "3ad6ebd9-3ddd-4fe4-c4bb-4d8446589382"
      },
      "outputs": [
        {
          "name": "stdout",
          "output_type": "stream",
          "text": [
            "Epoch [10/100], Loss: 0.9461\n",
            "Epoch [20/100], Loss: 0.6304\n",
            "Epoch [30/100], Loss: 0.4250\n",
            "Epoch [40/100], Loss: 0.3218\n",
            "Epoch [50/100], Loss: 0.2533\n",
            "Epoch [60/100], Loss: 0.1991\n",
            "Epoch [70/100], Loss: 0.1577\n",
            "Epoch [80/100], Loss: 0.1275\n",
            "Epoch [90/100], Loss: 0.1069\n",
            "Epoch [100/100], Loss: 0.0927\n",
            "Accuracy: 100.00%\n"
          ]
        }
      ],
      "source": [
        "# Import necessary libraries\n",
        "import torch  # PyTorch for creating and training neural networks\n",
        "import torch.nn as nn  # PyTorch module for building neural network layers\n",
        "import torch.optim as optim  # Optimizer module for gradient descent\n",
        "from sklearn.datasets import load_iris  # Load the Iris dataset\n",
        "from sklearn.model_selection import train_test_split  # Split dataset into training and testing sets\n",
        "from sklearn.preprocessing import StandardScaler  # Standardize features to have mean 0 and variance 1\n",
        "\n",
        "# Load the Iris dataset\n",
        "data = load_iris()  # Load Iris dataset from sklearn\n",
        "X, y = data.data, data.target  # Split features (X) and labels (y)\n",
        "\n",
        "# Split the data into training and testing sets\n",
        "X_train, X_test, y_train, y_test = train_test_split(\n",
        "    X, y, test_size=0.2, random_state=42\n",
        ")  # Use 80% of data for training and 20% for testing\n",
        "\n",
        "# Standardize the features\n",
        "scaler = StandardScaler()  # Initialize the scaler\n",
        "X_train = scaler.fit_transform(X_train)  # Fit scaler on training data and transform it\n",
        "X_test = scaler.transform(X_test)  # Transform test data using the fitted scaler\n",
        "\n",
        "# Convert data to PyTorch tensors\n",
        "X_train_tensor = torch.tensor(X_train, dtype=torch.float32)  # Convert training features to PyTorch tensor (float32)\n",
        "X_test_tensor = torch.tensor(X_test, dtype=torch.float32)  # Convert test features to PyTorch tensor (float32)\n",
        "y_train_tensor = torch.tensor(y_train, dtype=torch.long)  # Convert training labels to PyTorch tensor (long for classification)\n",
        "y_test_tensor = torch.tensor(y_test, dtype=torch.long)  # Convert test labels to PyTorch tensor (long for classification)\n",
        "\n",
        "# Define the Neural Network class\n",
        "class NeuralNetwork(nn.Module):  # Inherit from PyTorch's nn.Module\n",
        "    def __init__(self, input_size, hidden_size, num_classes):\n",
        "        super(NeuralNetwork, self).__init__()  # Initialize parent class\n",
        "        self.fc1 = nn.Linear(input_size, hidden_size)  # First fully connected layer\n",
        "        self.relu = nn.ReLU()  # ReLU activation function\n",
        "        self.fc2 = nn.Linear(hidden_size, num_classes)  # Second fully connected layer (output layer)\n",
        "\n",
        "    def forward(self, x):  # Define the forward pass\n",
        "        x = self.fc1(x)  # Apply first linear layer\n",
        "        x = self.relu(x)  # Apply ReLU activation\n",
        "        x = self.fc2(x)  # Apply second linear layer (output layer)\n",
        "        return x  # Return the final output\n",
        "\n",
        "# Initialize the model, loss function, and optimizer\n",
        "input_size = X_train.shape[1]  # Number of input features (4 for Iris dataset)\n",
        "hidden_size = 10  # Number of neurons in the hidden layer\n",
        "num_classes = len(set(y))  # Number of unique classes (3 for Iris dataset)\n",
        "model = NeuralNetwork(input_size, hidden_size, num_classes)  # Instantiate the model\n",
        "\n",
        "criterion = nn.CrossEntropyLoss()  # Cross-entropy loss for classification\n",
        "optimizer = optim.Adam(model.parameters(), lr=0.01)  # Adam optimizer with a learning rate of 0.01\n",
        "\n",
        "# Training loop\n",
        "epochs = 100  # Number of training epochs\n",
        "for epoch in range(epochs):\n",
        "    # Forward pass\n",
        "    outputs = model(X_train_tensor)  # Compute predictions on training data\n",
        "    loss = criterion(outputs, y_train_tensor)  # Calculate the loss\n",
        "\n",
        "    # Backward pass and optimization\n",
        "    optimizer.zero_grad()  # Zero the gradients from the previous step\n",
        "    loss.backward()  # Compute gradients of the loss w.r.t model parameters\n",
        "    optimizer.step()  # Update the parameters using gradients\n",
        "\n",
        "    if (epoch + 1) % 10 == 0:  # Print loss every 10 epochs\n",
        "        print(f\"Epoch [{epoch + 1}/{epochs}], Loss: {loss.item():.4f}\")\n",
        "\n",
        "# Evaluate the model\n",
        "with torch.no_grad():  # Disable gradient computation for evaluation\n",
        "    predictions = model(X_test_tensor)  # Make predictions on test data\n",
        "    predicted_classes = torch.argmax(predictions, axis=1)  # Get the class with the highest probability\n",
        "    accuracy = (predicted_classes == y_test_tensor).float().mean()  # Calculate accuracy\n",
        "    print(f\"Accuracy: {accuracy.item() * 100:.2f}%\")  # Print accuracy as a percentage\n"
      ]
    }
  ],
  "metadata": {
    "kernelspec": {
      "display_name": "base",
      "language": "python",
      "name": "python3"
    },
    "language_info": {
      "codemirror_mode": {
        "name": "ipython",
        "version": 3
      },
      "file_extension": ".py",
      "mimetype": "text/x-python",
      "name": "python",
      "nbconvert_exporter": "python",
      "pygments_lexer": "ipython3",
      "version": "3.11.5"
    },
    "toc": {
      "base_numbering": 1,
      "nav_menu": {},
      "number_sections": true,
      "sideBar": true,
      "skip_h1_title": false,
      "title_cell": "Table of Contents",
      "title_sidebar": "Contents",
      "toc_cell": false,
      "toc_position": {
        "height": "calc(100% - 180px)",
        "left": "10px",
        "top": "150px",
        "width": "307.2px"
      },
      "toc_section_display": true,
      "toc_window_display": true
    },
    "colab": {
      "provenance": [],
      "include_colab_link": true
    }
  },
  "nbformat": 4,
  "nbformat_minor": 0
}